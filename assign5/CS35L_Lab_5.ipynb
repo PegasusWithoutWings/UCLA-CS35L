{
 "cells": [
  {
   "cell_type": "markdown",
   "metadata": {},
   "source": [
    "# Buffered versus unbuffered I/O"
   ]
  },
  {
   "cell_type": "markdown",
   "metadata": {},
   "source": [
    "## Objective"
   ]
  },
  {
   "cell_type": "markdown",
   "metadata": {},
   "source": [
    "For this laboratory, we will implement transliteration programs `tr2b` and `tr2u` that use buffered and unbuffered I/O respectively, and compare the resulting implementations and performance."
   ]
  },
  {
   "cell_type": "markdown",
   "metadata": {},
   "source": [
    "## Specification"
   ]
  },
  {
   "cell_type": "markdown",
   "metadata": {},
   "source": [
    "Each implementation will be a **main program** that takes **two** operands `from` and `to` that are **byte strings** of the same length, according to which the program will convert every byte of standard input in `from` to the byte with the same index in `to`; then it will output the result to standard output. \n",
    "\n",
    "The implementations will report an error if `from` and `to` are not of the same length, or if `from` has duplicate bytes. \n",
    "\n",
    "To summarize, the implementations will act like the standard utility `tr`, except that they have no options; characters like \\[, - and \\\\ have no special meaning in the operands; operand errors will be diagnosed; the implementations act on bytes rather than on (possibly multibyte) characters."
   ]
  },
  {
   "cell_type": "markdown",
   "metadata": {},
   "source": [
    "### Background"
   ]
  },
  {
   "cell_type": "markdown",
   "metadata": {},
   "source": [
    "A **byte string** is in essence the internal representation of string as it is stored in the computer. The commonly known UTF-8, US-ASCII, and Unicode are all **character encoding system** that converts the corresponding string and byte string from and to each other. Depending on the system, the same string can be encoded into different byte strings; similarly, the same byte string representation can be decoded into different strings. When we see garbage characters or Mojibake when opening a file, it is usually because the file is decoded with the unintended character encoding.\n",
    "\n",
    "Here is an excellent [answer](https://stackoverflow.com/a/31322359) from Stackoverflow that explains this concept very well."
   ]
  },
  {
   "cell_type": "markdown",
   "metadata": {},
   "source": [
    "## Lab Log"
   ]
  },
  {
   "cell_type": "markdown",
   "metadata": {},
   "source": [
    "1. Because the use of hashtable can significantly speed up the two programs, I just tried to look for a library for hashtable in C.\n",
    "\n",
    "1. Unfortunately, there does not seem to be an implementation of hashtable in the standard library of C. However, there is one in the **GNU C Library**. After checking that it is avaiable in the SEASNet server, I looked through its [manual](https://www.gnu.org/software/libc/manual/html_node/Hash-Search-Function.html) and played around with some examples online a bit.\n",
    "\n",
    "1. After getting comfortable with the hashtable, we now start building tr2b and tr2u.\n",
    "\n",
    "1. First, we need to parse the arguments from the command line.\n",
    "\n",
    "1. We will first check that `from` and `to` are of the same length and `from` have no duplicate bytes."
   ]
  },
  {
   "cell_type": "code",
   "execution_count": null,
   "metadata": {},
   "outputs": [],
   "source": []
  }
 ],
 "metadata": {
  "kernelspec": {
   "display_name": "Bash",
   "language": "bash",
   "name": "bash"
  },
  "language_info": {
   "codemirror_mode": "shell",
   "file_extension": ".sh",
   "mimetype": "text/x-sh",
   "name": "bash"
  }
 },
 "nbformat": 4,
 "nbformat_minor": 2
}
