{
 "cells": [
  {
   "cell_type": "markdown",
   "metadata": {},
   "source": [
    "# Buffered versus unbuffered I/O"
   ]
  },
  {
   "cell_type": "markdown",
   "metadata": {},
   "source": [
    "## Objective"
   ]
  },
  {
   "cell_type": "markdown",
   "metadata": {},
   "source": [
    "For this laboratory, we will implement transliteration programs `tr2b` and `tr2u` that use buffered and unbuffered I/O respectively, and compare the resulting implementations and performance."
   ]
  },
  {
   "cell_type": "markdown",
   "metadata": {},
   "source": [
    "## Specification"
   ]
  },
  {
   "cell_type": "markdown",
   "metadata": {},
   "source": [
    "Each implementation will be a **main program** that takes **two** operands `from` and `to` that are **byte strings** of the same length, according to which the program will convert every byte of standard input in `from` to the byte with the same index in `to`; then it will output the result to standard output. \n",
    "\n",
    "The implementations will report an error if `from` and `to` are not of the same length, or if `from` has duplicate bytes. \n",
    "\n",
    "To summarize, the implementations will act like the standard utility `tr`, except that they have no options; characters like \\[, - and \\\\ have no special meaning in the operands; operand errors will be diagnosed; the implementations act on bytes rather than on (possibly multibyte) characters."
   ]
  },
  {
   "cell_type": "markdown",
   "metadata": {},
   "source": [
    "### Background"
   ]
  },
  {
   "cell_type": "markdown",
   "metadata": {},
   "source": [
    "A **byte string** is in essence the internal representation of string as it is stored in the computer. The commonly known UTF-8, US-ASCII, and Unicode are all **character encoding system** that converts the corresponding string and byte string from and to each other. Depending on the system, the same string can be encoded into different byte strings; similarly, the same byte string representation can be decoded into different strings. When we see garbage characters or Mojibake when opening a file, it is usually because the file is decoded with the unintended character encoding.\n",
    "\n",
    "Here is an excellent [answer](https://stackoverflow.com/a/31322359) from Stackoverflow that explains this concept very well."
   ]
  },
  {
   "cell_type": "markdown",
   "metadata": {},
   "source": [
    "## Lab Log"
   ]
  },
  {
   "cell_type": "markdown",
   "metadata": {},
   "source": [
    "### Create the program: tr2u, tr2b"
   ]
  },
  {
   "cell_type": "markdown",
   "metadata": {},
   "source": [
    "- Because the use of hashtable can significantly speed up the two programs, I just tried to look for a library for hashtable in C.\n",
    "\n",
    "1. Unfortunately, there does not seem to be an implementation of hashtable in the standard library of C. So, we are going to write a rather inefficient algorithm.\n",
    "\n",
    "1. Now we will start building tr2b and tr2u.\n",
    "\n",
    "1. First, we need to parse the arguments from the command line.\n",
    "\n",
    "1. After checking that there are two operands, we will then check that `from` and `to` are of the same length and `from` have no duplicate bytes.\n",
    "\n",
    "1. As part of the main algorithm, we need a way to find if the current character being processed is in the `from` string; if it is, then we need to get its index, so we can find the character it needs to be converted into. We call this function `findChar`.\n",
    "\n",
    "1. After finishing `findChar`, we can start writing the main part of the algorithm.\n",
    "\n",
    "1. When writing the main algorithm, we decided that instead of just finding the index of the character in `findChar`, we will let the function simply returns the result of character conversion. The function is now renamed `convertChar`.\n",
    "\n",
    "1. The rest of the work is straightforward. Iterate through each character from `stdin` obtained through `getchar`, convert it, and then output it to `stdout` with `putchar`.\n",
    "\n",
    "1. Tested the program. Passed. Then copied its content into tr2u.c as the starting template. Changed buffered I/O into unbuffered I/O. Tested. Passed."
   ]
  },
  {
   "cell_type": "markdown",
   "metadata": {},
   "source": [
    "### Performance testing"
   ]
  },
  {
   "cell_type": "markdown",
   "metadata": {},
   "source": [
    "We will first generate a 5,000,000 bytes file for the purpose of testing the performance of `tr2u` and `tr2b`."
   ]
  },
  {
   "cell_type": "code",
   "execution_count": 1,
   "metadata": {},
   "outputs": [
    {
     "name": "stdout",
     "output_type": "stream",
     "text": [
      "5000+0 records in\n",
      "5000+0 records out\n",
      "5000000 bytes (5.0 MB, 4.8 MiB) copied, 0.033504 s, 149 MB/s\n"
     ]
    }
   ],
   "source": [
    "dd if=/dev/zero of=test.txt count=5000 bs=1000"
   ]
  },
  {
   "cell_type": "markdown",
   "metadata": {},
   "source": [
    "According to the instruction, we will use `strace` to track the number of system calls made when calling these two programs."
   ]
  },
  {
   "cell_type": "code",
   "execution_count": 2,
   "metadata": {},
   "outputs": [
    {
     "name": "stdout",
     "output_type": "stream",
     "text": [
      "bash: strace: command not found\n"
     ]
    },
    {
     "ename": "",
     "evalue": "127",
     "output_type": "error",
     "traceback": []
    }
   ],
   "source": [
    "strace -o ./tr2b.out '1' '2' < file.txt > strace_tr2b"
   ]
  },
  {
   "cell_type": "code",
   "execution_count": null,
   "metadata": {},
   "outputs": [],
   "source": [
    "strace -o ./tr2u.out '1' '2' < file.txt > strace_tr2u"
   ]
  }
 ],
 "metadata": {
  "kernelspec": {
   "display_name": "Bash",
   "language": "bash",
   "name": "bash"
  },
  "language_info": {
   "codemirror_mode": "shell",
   "file_extension": ".sh",
   "mimetype": "text/x-sh",
   "name": "bash"
  }
 },
 "nbformat": 4,
 "nbformat_minor": 2
}
