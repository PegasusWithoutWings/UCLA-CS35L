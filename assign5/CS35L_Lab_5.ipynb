{
 "cells": [
  {
   "cell_type": "markdown",
   "metadata": {},
   "source": [
    "# Buffered versus unbuffered I/O"
   ]
  },
  {
   "cell_type": "markdown",
   "metadata": {},
   "source": [
    "## Objective"
   ]
  },
  {
   "cell_type": "markdown",
   "metadata": {},
   "source": [
    "For this laboratory, we will implement transliteration programs `tr2b` and `tr2u` that use buffered and unbuffered I/O respectively, and compare the resulting implementations and performance."
   ]
  },
  {
   "cell_type": "markdown",
   "metadata": {},
   "source": [
    "## Specification"
   ]
  },
  {
   "cell_type": "markdown",
   "metadata": {},
   "source": [
    "Each implementation will be a **main program** that takes **two** operands `from` and `to` that are **byte strings** of the same length, according to which the program will convert every byte of standard input in `from` to the byte with the same index in `to`; then it will output the result to standard output. \n",
    "\n",
    "The implementations will report an error if `from` and `to` are not of the same length, or if `from` has duplicate bytes. \n",
    "\n",
    "To summarize, the implementations will act like the standard utility `tr`, except that they have no options; characters like \\[, - and \\\\ have no special meaning in the operands; operand errors will be diagnosed; the implementations act on bytes rather than on (possibly multibyte) characters."
   ]
  },
  {
   "cell_type": "markdown",
   "metadata": {},
   "source": [
    "### Background"
   ]
  },
  {
   "cell_type": "markdown",
   "metadata": {},
   "source": [
    "A **byte string** is in essence the internal representation of string as it is stored in the computer. The commonly known UTF-8, US-ASCII, and Unicode are all **character encoding system** that converts the corresponding string and byte string from and to each other. Depending on the system, the same string can be encoded into different byte strings; similarly, the same byte string representation can be decoded into different strings. When we see garbage characters or Mojibake when opening a file, it is usually because the file is decoded with the unintended character encoding.\n",
    "\n",
    "Here is an excellent [answer](https://stackoverflow.com/a/31322359) from Stackoverflow that explains this concept very well."
   ]
  },
  {
   "cell_type": "markdown",
   "metadata": {},
   "source": [
    "## Lab Log"
   ]
  },
  {
   "cell_type": "markdown",
   "metadata": {},
   "source": [
    "### Create the program: tr2u, tr2b"
   ]
  },
  {
   "cell_type": "markdown",
   "metadata": {},
   "source": [
    "- Because the use of hashtable can significantly speed up the two programs, I just tried to look for a library for hashtable in C.\n",
    "\n",
    "1. Unfortunately, there does not seem to be an implementation of hashtable in the standard library of C. So, we are going to write a rather inefficient algorithm.\n",
    "\n",
    "1. Now we will start building tr2b and tr2u.\n",
    "\n",
    "1. First, we need to parse the arguments from the command line.\n",
    "\n",
    "1. After checking that there are two operands, we will then check that `from` and `to` are of the same length and `from` have no duplicate bytes.\n",
    "\n",
    "1. As part of the main algorithm, we need a way to find if the current character being processed is in the `from` string; if it is, then we need to get its index, so we can find the character it needs to be converted into. We call this function `findChar`.\n",
    "\n",
    "1. After finishing `findChar`, we can start writing the main part of the algorithm.\n",
    "\n",
    "1. When writing the main algorithm, we decided that instead of just finding the index of the character in `findChar`, we will let the function simply returns the result of character conversion. The function is now renamed `convertChar`.\n",
    "\n",
    "1. The rest of the work is straightforward. Iterate through each character from `stdin` obtained through `getchar`, convert it, and then output it to `stdout` with `putchar`.\n",
    "\n",
    "1. Tested the program. Passed. Then copied its content into tr2u.c as the starting template. Changed buffered I/O into unbuffered I/O. Tested. Passed."
   ]
  },
  {
   "cell_type": "markdown",
   "metadata": {},
   "source": [
    "### Performance testing"
   ]
  },
  {
   "cell_type": "markdown",
   "metadata": {},
   "source": [
    "We will first generate a 5,000,000 bytes file for the purpose of testing the performance of `tr2u` and `tr2b`."
   ]
  },
  {
   "cell_type": "code",
   "execution_count": null,
   "metadata": {},
   "outputs": [],
   "source": [
    "dd if=/dev/zero of=test.txt count=5000 bs=1000"
   ]
  },
  {
   "cell_type": "markdown",
   "metadata": {},
   "source": [
    "According to the instruction, we will use `strace` to track the number of system calls made when calling these two programs."
   ]
  },
  {
   "cell_type": "code",
   "execution_count": null,
   "metadata": {},
   "outputs": [],
   "source": [
    "strace -o ./tr2b.out '1' '2' < test.txt > strace_tr2b"
   ]
  },
  {
   "cell_type": "raw",
   "metadata": {},
   "source": [
    "% time     seconds  usecs/call     calls    errors syscall\n",
    "------ ----------- ----------- --------- --------- ----------------\n",
    "100.00    0.000052           1        79           read\n",
    "  0.00    0.000000           0        77           write\n",
    "  0.00    0.000000           0         2           open\n",
    "  0.00    0.000000           0         2           close\n",
    "  0.00    0.000000           0         4           fstat\n",
    "  0.00    0.000000           0        10           mmap\n",
    "  0.00    0.000000           0         3           mprotect\n",
    "  0.00    0.000000           0         1           munmap\n",
    "  0.00    0.000000           0         3           brk\n",
    "  0.00    0.000000           0         1         1 access\n",
    "  0.00    0.000000           0         1           execve\n",
    "  0.00    0.000000           0         1           arch_prctl\n",
    "------ ----------- ----------- --------- --------- ----------------\n",
    "100.00    0.000052                   184         1 total"
   ]
  },
  {
   "cell_type": "code",
   "execution_count": null,
   "metadata": {},
   "outputs": [],
   "source": [
    "strace -o ./tr2u.out '1' '2' < file.txt > strace_tr2u"
   ]
  },
  {
   "cell_type": "raw",
   "metadata": {},
   "source": [
    "% time     seconds  usecs/call     calls    errors syscall\n",
    "------ ----------- ----------- --------- --------- ----------------\n",
    " 56.97    0.592568           0   5000000           write\n",
    " 43.03    0.447535           0   5000002           read\n",
    "  0.00    0.000000           0         2           open\n",
    "  0.00    0.000000           0         2           close\n",
    "  0.00    0.000000           0         2           fstat\n",
    "  0.00    0.000000           0         8           mmap\n",
    "  0.00    0.000000           0         3           mprotect\n",
    "  0.00    0.000000           0         1           munmap\n",
    "  0.00    0.000000           0         3           brk\n",
    "  0.00    0.000000           0         1         1 access\n",
    "  0.00    0.000000           0         1           execve\n",
    "  0.00    0.000000           0         1           arch_prctl\n",
    "------ ----------- ----------- --------- --------- ----------------\n",
    "100.00    1.040103              10000026         1 total"
   ]
  },
  {
   "cell_type": "markdown",
   "metadata": {},
   "source": [
    "As we can easily see, the buffered version of the program makes significantly less system calls compared to the unbuffered version.\n",
    "\n",
    "Now we are going to compared their performance when copying a file to your terminal. Again we will use `test.txt` that contains 5,000,000 bytes"
   ]
  },
  {
   "cell_type": "code",
   "execution_count": null,
   "metadata": {},
   "outputs": [],
   "source": [
    "strace -c ./tr2b.out '1' '2' < test.txt"
   ]
  },
  {
   "cell_type": "raw",
   "metadata": {},
   "source": [
    "% time     seconds  usecs/call     calls    errors syscall\n",
    "------ ----------- ----------- --------- --------- ----------------\n",
    "100.00    0.000659           0      4883           write\n",
    "  0.00    0.000000           0        79           read\n",
    "  0.00    0.000000           0         2           open\n",
    "  0.00    0.000000           0         2           close\n",
    "  0.00    0.000000           0         4           fstat\n",
    "  0.00    0.000000           0        10           mmap\n",
    "  0.00    0.000000           0         3           mprotect\n",
    "  0.00    0.000000           0         1           munmap\n",
    "  0.00    0.000000           0         3           brk\n",
    "  0.00    0.000000           0         1         1 access\n",
    "  0.00    0.000000           0         1           execve\n",
    "  0.00    0.000000           0         1           arch_prctl\n",
    "------ ----------- ----------- --------- --------- ----------------\n",
    "100.00    0.000659                  4990         1 total"
   ]
  },
  {
   "cell_type": "code",
   "execution_count": null,
   "metadata": {},
   "outputs": [],
   "source": [
    "strace -c ./tr2u.out '1' '2' < test.txt"
   ]
  },
  {
   "cell_type": "raw",
   "metadata": {},
   "source": [
    "% time     seconds  usecs/call     calls    errors syscall\n",
    "------ ----------- ----------- --------- --------- ----------------\n",
    " 55.82    0.333344           0   5000000           write\n",
    " 44.18    0.263885           0   5000002           read\n",
    "  0.00    0.000000           0         2           open\n",
    "  0.00    0.000000           0         2           close\n",
    "  0.00    0.000000           0         2           fstat\n",
    "  0.00    0.000000           0         8           mmap\n",
    "  0.00    0.000000           0         3           mprotect\n",
    "  0.00    0.000000           0         1           munmap\n",
    "  0.00    0.000000           0         3           brk\n",
    "  0.00    0.000000           0         1         1 access\n",
    "  0.00    0.000000           0         1           execve\n",
    "  0.00    0.000000           0         1           arch_prctl\n",
    "------ ----------- ----------- --------- --------- ----------------\n",
    "100.00    0.597229              10000026         1 total"
   ]
  },
  {
   "cell_type": "markdown",
   "metadata": {},
   "source": [
    "Compared to the case when we write the output of the strace to a local file, printing out the output in terminal created significantly more system calls, especially for the buffered version.\n",
    "\n",
    "Now we are going to time these two programs. Because `tr2b` uses significantly less system calls to complete, we predict that `tr2b` will take much shorter time to finish than `tr2u`."
   ]
  },
  {
   "cell_type": "code",
   "execution_count": null,
   "metadata": {},
   "outputs": [],
   "source": [
    "time ./tr2b.out '1' '2' < test.txt > strace_tr2b"
   ]
  },
  {
   "cell_type": "raw",
   "metadata": {},
   "source": [
    "real    0m0.221s\n",
    "user    0m0.169s\n",
    "sys     0m0.009s"
   ]
  },
  {
   "cell_type": "code",
   "execution_count": null,
   "metadata": {},
   "outputs": [],
   "source": [
    "time ./tr2u.out '1' '2' < test.txt > strace_tr2u"
   ]
  },
  {
   "cell_type": "raw",
   "metadata": {},
   "source": [
    "real    0m8.923s\n",
    "user    0m1.261s\n",
    "sys     0m7.621s"
   ]
  }
 ],
 "metadata": {
  "kernelspec": {
   "display_name": "Bash",
   "language": "bash",
   "name": "bash"
  },
  "language_info": {
   "codemirror_mode": "shell",
   "file_extension": ".sh",
   "mimetype": "text/x-sh",
   "name": "bash"
  }
 },
 "nbformat": 4,
 "nbformat_minor": 2
}
