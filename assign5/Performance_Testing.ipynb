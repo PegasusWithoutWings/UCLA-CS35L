{
 "cells": [
  {
   "cell_type": "markdown",
   "metadata": {},
   "source": [
    "# CS35L: HW5 Performance Comparison"
   ]
  },
  {
   "cell_type": "markdown",
   "metadata": {},
   "source": [
    "We have just finished the implementation of all the programs. Now we are going to time all of them, including the previous ones created in the last assignment:\n",
    "- `sfrob`\n",
    "- `sfrobu`\n",
    "- `sfrobs`\n",
    "- `sfrobu -f`\n",
    "- `sfrobs -f`\n",
    "\n",
    "First we created a 5.0MB testing file consiting of nothing but null character."
   ]
  },
  {
   "cell_type": "code",
   "execution_count": 1,
   "metadata": {},
   "outputs": [
    {
     "name": "stdout",
     "output_type": "stream",
     "text": [
      "5000+0 records in\n",
      "5000+0 records out\n",
      "5000000 bytes (5.0 MB, 4.8 MiB) copied, 0.035518 s, 141 MB/s\n"
     ]
    }
   ],
   "source": [
    "dd if=/dev/zero of=test.txt count=5000 bs=1000"
   ]
  },
  {
   "cell_type": "code",
   "execution_count": null,
   "metadata": {},
   "outputs": [],
   "source": []
  }
 ],
 "metadata": {
  "kernelspec": {
   "display_name": "Bash",
   "language": "bash",
   "name": "bash"
  },
  "language_info": {
   "codemirror_mode": "shell",
   "file_extension": ".sh",
   "mimetype": "text/x-sh",
   "name": "bash"
  }
 },
 "nbformat": 4,
 "nbformat_minor": 2
}
