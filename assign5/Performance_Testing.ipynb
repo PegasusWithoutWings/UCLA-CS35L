{
 "cells": [
  {
   "cell_type": "markdown",
   "metadata": {},
   "source": [
    "# CS35L: HW5 Performance Comparison"
   ]
  },
  {
   "cell_type": "markdown",
   "metadata": {},
   "source": [
    "We have just finished the implementation of all the programs. Now we are going to time all of them, including the previous ones created in the last assignment:\n",
    "\n",
    "- `sfrob`\n",
    "- `sfrobu`\n",
    "- `sfrobs`\n",
    "- `sfrobu -f`\n",
    "- `sfrobs -f`\n",
    "\n",
    "First we created a testing file consisting of 1,000,000 randomly generated and encrypted words named `rand_words.txt` with a custom Python script `rand_words.py`."
   ]
  },
  {
   "cell_type": "code",
   "execution_count": 1,
   "metadata": {},
   "outputs": [
    {
     "name": "stdout",
     "output_type": "stream",
     "text": [
      "CS35L_Lab_5.ipynb\t   rand_words.py   sfrob    sfrobs  test.txt  tr2u.c\n",
      "Performance_Testing.ipynb  rand_words.txt  sfrob.c  sfrobu  tr2b.c\n"
     ]
    }
   ],
   "source": [
    "ls"
   ]
  },
  {
   "cell_type": "code",
   "execution_count": 2,
   "metadata": {},
   "outputs": [
    {
     "name": "stdout",
     "output_type": "stream",
     "text": [
      "from random import choices\n",
      "\n",
      "def encrypt(word):\n",
      "  result_builder = []\n",
      "  for char in word:\n",
      "    encrypted_char = chr(ord(char) ^ 42)\n",
      "    result_builder.append(encrypted_char)\n",
      "  result = ''.join(result_builder)\n",
      "  return result\n",
      "\n",
      "words = [word.strip() for word in open(\"/usr/share/dict/words\", 'r').readlines()]\n",
      "output = open(\"rand_words.txt\", 'w')\n",
      "\n",
      "for word in choices(words, k = 1000000):\n",
      "  output.write(encrypt(word) + ' ')"
     ]
    }
   ],
   "source": [
    "cat rand_words.py"
   ]
  },
  {
   "cell_type": "markdown",
   "metadata": {},
   "source": [
    "Now we are going to use the testing file to time the performance of the above mentioned 5 programs."
   ]
  },
  {
   "cell_type": "code",
   "execution_count": 3,
   "metadata": {},
   "outputs": [
    {
     "name": "stdout",
     "output_type": "stream",
     "text": [
      "\n",
      "real\t0m2.938s\n",
      "user\t0m2.871s\n",
      "sys\t0m0.035s\n"
     ]
    }
   ],
   "source": [
    "time ./sfrob < rand_words.txt > /dev/null"
   ]
  },
  {
   "cell_type": "code",
   "execution_count": 4,
   "metadata": {},
   "outputs": [
    {
     "name": "stdout",
     "output_type": "stream",
     "text": [
      "\n",
      "real\t0m22.789s\n",
      "user\t0m10.453s\n",
      "sys\t0m12.185s\n"
     ]
    }
   ],
   "source": [
    "time ./sfrobu < rand_words.txt > /dev/null"
   ]
  },
  {
   "cell_type": "code",
   "execution_count": 5,
   "metadata": {},
   "outputs": [
    {
     "name": "stdout",
     "output_type": "stream",
     "text": [
      "\n",
      "real\t0m14.241s\n",
      "user\t0m14.070s\n",
      "sys\t0m0.116s\n"
     ]
    }
   ],
   "source": [
    "time ./sfrobs < rand_words.txt > /dev/null"
   ]
  },
  {
   "cell_type": "code",
   "execution_count": 6,
   "metadata": {},
   "outputs": [
    {
     "name": "stdout",
     "output_type": "stream",
     "text": [
      "\n",
      "real\t0m23.274s\n",
      "user\t0m10.935s\n",
      "sys\t0m12.134s\n"
     ]
    }
   ],
   "source": [
    "time ./sfrobu -f < rand_words.txt > /dev/null"
   ]
  },
  {
   "cell_type": "code",
   "execution_count": 7,
   "metadata": {},
   "outputs": [
    {
     "name": "stdout",
     "output_type": "stream",
     "text": [
      "\n",
      "real\t0m14.205s\n",
      "user\t0m14.060s\n",
      "sys\t0m0.107s\n"
     ]
    }
   ],
   "source": [
    "time ./sfrobs -f < rand_words.txt > /dev/null"
   ]
  }
 ],
 "metadata": {
  "kernelspec": {
   "display_name": "Bash",
   "language": "bash",
   "name": "bash"
  },
  "language_info": {
   "codemirror_mode": "shell",
   "file_extension": ".sh",
   "mimetype": "text/x-sh",
   "name": "bash"
  }
 },
 "nbformat": 4,
 "nbformat_minor": 2
}
