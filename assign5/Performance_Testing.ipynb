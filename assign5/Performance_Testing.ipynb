{
 "cells": [
  {
   "cell_type": "markdown",
   "metadata": {},
   "source": [
    "# CS35L: HW5 Performance Comparison"
   ]
  },
  {
   "cell_type": "markdown",
   "metadata": {},
   "source": [
    "We have just finished the implementation of all the programs. Now we are going to time all of them, including the previous ones created in the last assignment:\n",
    "- `sfrob`\n",
    "- `sfrobu`\n",
    "- `sfrobs`\n",
    "- `sfrobu -f`\n",
    "- `sfrobs -f`\n",
    "\n",
    "First we created a testing file consiting of 5,000,000 randomly generated encrypted words."
   ]
  },
  {
   "cell_type": "code",
   "execution_count": null,
   "metadata": {},
   "outputs": [],
   "source": []
  }
 ],
 "metadata": {
  "kernelspec": {
   "display_name": "Bash",
   "language": "bash",
   "name": "bash"
  },
  "language_info": {
   "codemirror_mode": "shell",
   "file_extension": ".sh",
   "mimetype": "text/x-sh",
   "name": "bash"
  }
 },
 "nbformat": 4,
 "nbformat_minor": 2
}
