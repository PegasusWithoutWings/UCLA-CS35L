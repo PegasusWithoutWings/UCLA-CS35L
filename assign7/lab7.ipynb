{
 "cells": [
  {
   "cell_type": "markdown",
   "metadata": {},
   "source": [
    "# CS35L-Lab 7: SSH Setup and Use in Applications"
   ]
  },
  {
   "cell_type": "markdown",
   "metadata": {},
   "source": [
    "# Prelude\n",
    "\n",
    "Because I am using the latest version of Macbook Pro that does not even have USB port, it took me some extra trouble to set the Baglebone up. First I have to borrow a Windows laptop from my friend and then walk through the setup instructions posted in Piazza. Then, after I get it connected to UCLA_WIFI, I can finally connect to it wirelessly and start working on it on my own Macbook. The internal ip address of Baglebone can be found in the output of `ifconfig` with label `inet address` under `wlan0` section. \n",
    "\n",
    "```\n",
    "wlan0     Link encap:Ethernet  HWaddr 2c:f7:f1:06:6b:54\n",
    "          inet addr:128.97.180.16  Bcast:128.97.180.255  Mask:255.255.255.0\n",
    "```\n",
    "\n",
    "Now I can start working on our Baglebone on my own laptop.\n",
    "\n",
    "# Server Setup\n",
    "\n",
    "1. We executed `ssh-keygen` to generate public and private keys in our Baglebone server. I choose not to add passphrase.\n",
    "\n",
    "1. Then we executed `sudo useradd -d /home/guest/ -m guest` to create a guest account for other people to remotely connect to. We also used `sudo passwd guest` to add a password to the guest account.\n",
    "\n",
    "1. Then we created a `.ssh` directory for the new user by first changing directory into it with `cd /home/guest/` and then `sudo mkdir .ssh`.\n",
    "\n",
    "1. Because we created `.ssh` with `sudo`, it is owned by `root` user. We now need to change the ownership on `.ssh` directory with `sudo chown -R guest .ssh`. Then we will change it permission with `sudo chmod 700 .ssh` so that it will not be edited by unintended users.\n",
    "\n",
    "1. We will now disable password-based authentication so that users can only connect to the server through `ssh` agent. It ensures that only permitted users can access the server and reduce the risk of attacks from leaked passwords.\n",
    "\n",
    "# Client Setup\n",
    "\n",
    "Now we will set up the clients to get connected to our Baglebone server. \n",
    "\n",
    "1. I have already generated public and private keys when working with Github, so I do not have to generate them again.\n",
    "\n",
    "1. Then we copied the public key to the server for key-based authentication with `ssh-copy-id –i guest@128.97.180.16`.\n",
    "\n",
    "1. We will now add the private key to authentication agent so that we will not need to type our password every time using `ssh`.\n",
    "\n",
    "1. Finally we can `ssh` to the server with `ssh -X guest@128.97.180.16`.\n",
    "\n",
    "1. The X forwarding works like a charm. I can run firefox on my Baglebone and see it on my own laptop."
   ]
  },
  {
   "cell_type": "code",
   "execution_count": 5,
   "metadata": {},
   "outputs": [
    {
     "name": "stdout",
     "output_type": "stream",
     "text": [
      "aws-key-fast-ai.pem  id_rsa  id_rsa.pub  known_hosts\n"
     ]
    }
   ],
   "source": [
    "ls ~/.ssh"
   ]
  },
  {
   "cell_type": "markdown",
   "metadata": {},
   "source": []
  },
  {
   "cell_type": "code",
   "execution_count": null,
   "metadata": {},
   "outputs": [],
   "source": []
  }
 ],
 "metadata": {
  "kernelspec": {
   "display_name": "Bash",
   "language": "bash",
   "name": "bash"
  },
  "language_info": {
   "codemirror_mode": "shell",
   "file_extension": ".sh",
   "mimetype": "text/x-sh",
   "name": "bash"
  }
 },
 "nbformat": 4,
 "nbformat_minor": 2
}
